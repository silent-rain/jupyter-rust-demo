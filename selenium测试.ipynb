{
 "cells": [
  {
   "cell_type": "markdown",
   "id": "5176badc-0c7c-4acb-a5e1-cb3450f1d1af",
   "metadata": {
    "scrolled": true
   },
   "source": [
    "# selenium 测试"
   ]
  },
  {
   "cell_type": "markdown",
   "id": "4c9a242d-d19f-4ba9-86d9-1989a70c5935",
   "metadata": {},
   "source": [
    "## 参考文档\n",
    "- [evcxr_jupyter](https://docs.rs/crate/evcxr_jupyter/latest)"
   ]
  },
  {
   "cell_type": "markdown",
   "id": "ffe09053-8510-42ce-8b9e-070094608b91",
   "metadata": {},
   "source": [
    "## 安装依赖"
   ]
  },
  {
   "cell_type": "code",
   "execution_count": 2,
   "id": "a0872382-e503-44da-be5a-9b9eb468a91a",
   "metadata": {},
   "outputs": [],
   "source": [
    "// :dep selenium-rs // 很久没有人维护了\n",
    "// https://github.com/saresend/selenium-rs"
   ]
  },
  {
   "cell_type": "code",
   "execution_count": 3,
   "id": "b7b714b6-0d84-45bf-9e2e-97d6d220e51b",
   "metadata": {},
   "outputs": [],
   "source": [
    ":dep thirtyfour\n",
    "// https://github.com/Vrtgs/thirtyfour"
   ]
  },
  {
   "cell_type": "code",
   "execution_count": 4,
   "id": "366304b7-8f8d-4ece-afdb-2be040d72194",
   "metadata": {},
   "outputs": [],
   "source": [
    "// 异步支持\n",
    ":dep tokio = {version = \"1.42\", features = [\"full\"]}"
   ]
  },
  {
   "cell_type": "code",
   "execution_count": 5,
   "id": "b84390aa-bafc-47cd-ab6d-d33b88d3fa54",
   "metadata": {},
   "outputs": [],
   "source": [
    "use thirtyfour::prelude::*;"
   ]
  },
  {
   "cell_type": "code",
   "execution_count": 6,
   "id": "afb51a64-1765-44cd-a575-69c844bd3256",
   "metadata": {},
   "outputs": [],
   "source": [
    "use std::sync::Arc;"
   ]
  },
  {
   "cell_type": "markdown",
   "id": "e25228ca-952f-4cd2-a580-d9644cbd7af3",
   "metadata": {},
   "source": [
    "## 测试输入交互"
   ]
  },
  {
   "cell_type": "code",
   "execution_count": 7,
   "id": "ec0cad12-bed5-429d-861c-d0a3b95abe82",
   "metadata": {},
   "outputs": [],
   "source": [
    "// :dep evcxr_input\n",
    "// let name = evcxr_input::get_string(\"Name?\");\n",
    "// println!(\"name: {name}\")"
   ]
  },
  {
   "cell_type": "code",
   "execution_count": 8,
   "id": "5cfdd079-540e-487d-acd5-9e627092ce0e",
   "metadata": {},
   "outputs": [
    {
     "name": "stdout",
     "output_type": "stream",
     "text": [
      "start ...\n"
     ]
    },
    {
     "data": {
      "text/plain": [
       "()"
      ]
     },
     "execution_count": 8,
     "metadata": {},
     "output_type": "execute_result"
    }
   ],
   "source": [
    "println!(\"start ...\")"
   ]
  },
  {
   "attachments": {},
   "cell_type": "markdown",
   "id": "e095c9a8-9dfa-485b-9965-cfddc6d6df3f",
   "metadata": {
    "jp-MarkdownHeadingCollapsed": true
   },
   "source": [
    "## 启动chromedriver服务\n",
    "```shell\n",
    "sh chromedriver\n",
    "```"
   ]
  },
  {
   "cell_type": "markdown",
   "id": "095b69e3-ca86-42ea-892f-ac1be77796c2",
   "metadata": {},
   "source": [
    "## 开始调试"
   ]
  },
  {
   "cell_type": "code",
   "execution_count": 11,
   "id": "cd59cc45-a3f7-4fb9-b613-194fa707fcc0",
   "metadata": {},
   "outputs": [
    {
     "name": "stderr",
     "output_type": "stream",
     "text": [
      "The WebDriver request returned an error: error sending request for url (http://localhost:36775/session)\n"
     ]
    }
   ],
   "source": [
    "let caps = DesiredCapabilities::chrome();\n",
    "let driver = WebDriver::new(\"http://localhost:36775\", caps).await?;"
   ]
  },
  {
   "cell_type": "code",
   "execution_count": 12,
   "id": "3d3ba83d-c6b3-4a2f-bdd3-9798657f6414",
   "metadata": {},
   "outputs": [
    {
     "ename": "Error",
     "evalue": "cannot find value `driver` in this scope",
     "output_type": "error",
     "traceback": [
      "\u001b[31m[E0425] Error:\u001b[0m cannot find value `driver` in this scope",
      "   \u001b[38;5;246m╭\u001b[0m\u001b[38;5;246m─\u001b[0m\u001b[38;5;246m[\u001b[0mcommand_12:1:1\u001b[38;5;246m]\u001b[0m",
      "   \u001b[38;5;246m│\u001b[0m",
      " \u001b[38;5;246m1 │\u001b[0m \u001b[38;5;249ml\u001b[0m\u001b[38;5;249me\u001b[0m\u001b[38;5;249mt\u001b[0m\u001b[38;5;249m \u001b[0m\u001b[38;5;249md\u001b[0m\u001b[38;5;249mr\u001b[0m\u001b[38;5;249mi\u001b[0m\u001b[38;5;249mv\u001b[0m\u001b[38;5;249me\u001b[0m\u001b[38;5;249mr\u001b[0m\u001b[38;5;249m \u001b[0m\u001b[38;5;249m=\u001b[0m\u001b[38;5;249m \u001b[0m\u001b[38;5;249mA\u001b[0m\u001b[38;5;249mr\u001b[0m\u001b[38;5;249mc\u001b[0m\u001b[38;5;249m:\u001b[0m\u001b[38;5;249m:\u001b[0m\u001b[38;5;249mc\u001b[0m\u001b[38;5;249ml\u001b[0m\u001b[38;5;249mo\u001b[0m\u001b[38;5;249mn\u001b[0m\u001b[38;5;249me\u001b[0m\u001b[38;5;249m(\u001b[0m\u001b[38;5;249m&\u001b[0m\u001b[38;5;54md\u001b[0m\u001b[38;5;54mr\u001b[0m\u001b[38;5;54mi\u001b[0m\u001b[38;5;54mv\u001b[0m\u001b[38;5;54me\u001b[0m\u001b[38;5;54mr\u001b[0m\u001b[38;5;249m)\u001b[0m\u001b[38;5;249m;\u001b[0m",
      " \u001b[38;5;240m  │\u001b[0m                          \u001b[38;5;54m─\u001b[0m\u001b[38;5;54m─\u001b[0m\u001b[38;5;54m─\u001b[0m\u001b[38;5;54m┬\u001b[0m\u001b[38;5;54m─\u001b[0m\u001b[38;5;54m─\u001b[0m  ",
      " \u001b[38;5;240m  │\u001b[0m                             \u001b[38;5;54m╰\u001b[0m\u001b[38;5;54m─\u001b[0m\u001b[38;5;54m─\u001b[0m\u001b[38;5;54m─\u001b[0m\u001b[38;5;54m─\u001b[0m not found in this scope",
      "\u001b[38;5;246m───╯\u001b[0m"
     ]
    }
   ],
   "source": [
    "let driver = Arc::clone(&driver);\n",
    "driver"
   ]
  },
  {
   "cell_type": "code",
   "execution_count": 11,
   "id": "5526e24a-35a1-4344-a75a-33381b99b97f",
   "metadata": {
    "scrolled": true
   },
   "outputs": [
    {
     "name": "stderr",
     "output_type": "stream",
     "text": [
      "thread '<unnamed>' panicked at /home/one/.rustup/toolchains/stable-x86_64-unknown-linux-gnu/lib/rustlib/src/rust/library/core/src/ops/function.rs:250:5:\n",
      "there is no reactor running, must be called from the context of a Tokio 1.x runtime\n",
      "stack backtrace:\n",
      "   0: rust_begin_unwind\n",
      "             at /rustc/90b35a6239c3d8bdabc530a6a0816f7ff89a0aaf/library/std/src/panicking.rs:665:5\n",
      "   1: core::panicking::panic_fmt\n",
      "             at /rustc/90b35a6239c3d8bdabc530a6a0816f7ff89a0aaf/library/core/src/panicking.rs:74:14\n",
      "   2: tokio::runtime::scheduler::Handle::current::panic_cold_display\n",
      "   3: tokio::runtime::scheduler::Handle::current\n",
      "   4: tokio::time::sleep::sleep\n",
      "   5: reqwest::async_impl::client::Client::execute_request\n",
      "   6: reqwest::async_impl::request::RequestBuilder::send\n",
      "   7: <reqwest::async_impl::client::Client as thirtyfour::session::http::HttpClient>::send::{{closure}}\n",
      "   8: tokio::runtime::park::CachedParkThread::block_on\n",
      "   9: tokio::runtime::context::runtime::enter_runtime\n",
      "  10: tokio::runtime::runtime::Runtime::block_on\n",
      "  11: std::panic::catch_unwind\n",
      "  12: run_user_code_9\n",
      "  13: evcxr::runtime::Runtime::run_loop\n",
      "  14: evcxr::runtime::runtime_hook\n",
      "  15: evcxr_jupyter::main\n",
      "note: Some details are omitted, run with `RUST_BACKTRACE=full` for a verbose backtrace.\n"
     ]
    }
   ],
   "source": [
    "// Navigate to https://wikipedia.org.\n",
    " let _ = driver.goto(\"https://wikipedia.org\").await?;"
   ]
  },
  {
   "cell_type": "code",
   "execution_count": 12,
   "id": "080733bb-eeb8-4cb7-bba0-4ef4b56aeb6d",
   "metadata": {},
   "outputs": [
    {
     "ename": "Error",
     "evalue": "method `quit` is private",
     "output_type": "error",
     "traceback": [
      "\u001b[31m[E0624] Error:\u001b[0m method `quit` is private",
      "    \u001b[38;5;246m╭\u001b[0m\u001b[38;5;246m─\u001b[0m\u001b[38;5;246m[\u001b[0mcommand_12:1:1\u001b[38;5;246m]\u001b[0m",
      "    \u001b[38;5;246m│\u001b[0m",
      " \u001b[38;5;246m18 │\u001b[0m \u001b[38;5;249m \u001b[0m\u001b[38;5;249md\u001b[0m\u001b[38;5;249mr\u001b[0m\u001b[38;5;249mi\u001b[0m\u001b[38;5;249mv\u001b[0m\u001b[38;5;249me\u001b[0m\u001b[38;5;249mr\u001b[0m\u001b[38;5;249m.\u001b[0m\u001b[38;5;54mq\u001b[0m\u001b[38;5;54mu\u001b[0m\u001b[38;5;54mi\u001b[0m\u001b[38;5;54mt\u001b[0m\u001b[38;5;249m(\u001b[0m\u001b[38;5;249m)\u001b[0m\u001b[38;5;249m.\u001b[0m\u001b[38;5;249ma\u001b[0m\u001b[38;5;249mw\u001b[0m\u001b[38;5;249ma\u001b[0m\u001b[38;5;249mi\u001b[0m\u001b[38;5;249mt\u001b[0m\u001b[38;5;249m?\u001b[0m\u001b[38;5;249m;\u001b[0m",
      " \u001b[38;5;240m   │\u001b[0m         \u001b[38;5;54m─\u001b[0m\u001b[38;5;54m─\u001b[0m\u001b[38;5;54m┬\u001b[0m\u001b[38;5;54m─\u001b[0m  ",
      " \u001b[38;5;240m   │\u001b[0m           \u001b[38;5;54m╰\u001b[0m\u001b[38;5;54m─\u001b[0m\u001b[38;5;54m─\u001b[0m\u001b[38;5;54m─\u001b[0m private method",
      "\u001b[38;5;246m────╯\u001b[0m"
     ]
    }
   ],
   "source": [
    "let elem_form = driver.find(By::Id(\"search-form\")).await?;\n",
    "\n",
    " // Find element from element.\n",
    " let elem_text = elem_form.find(By::Id(\"searchInput\")).await?;\n",
    "\n",
    " // Type in the search terms.\n",
    " elem_text.send_keys(\"selenium\").await?;\n",
    "\n",
    " // Click the search button.\n",
    " let elem_button = elem_form.find(By::Css(\"button[type='submit']\")).await?;\n",
    " elem_button.click().await?;\n",
    "\n",
    " // Look for header to implicitly wait for the page to load.\n",
    " driver.find(By::ClassName(\"firstHeading\")).await?;\n",
    " assert_eq!(driver.title().await?, \"Selenium - Wikipedia\");\n",
    "\n",
    " // Always explicitly close the browser.\n",
    " driver.quit().await?;"
   ]
  }
 ],
 "metadata": {
  "kernelspec": {
   "display_name": "Rust",
   "language": "rust",
   "name": "rust"
  },
  "language_info": {
   "codemirror_mode": "rust",
   "file_extension": ".rs",
   "mimetype": "text/rust",
   "name": "Rust",
   "pygment_lexer": "rust",
   "version": ""
  }
 },
 "nbformat": 4,
 "nbformat_minor": 5
}
